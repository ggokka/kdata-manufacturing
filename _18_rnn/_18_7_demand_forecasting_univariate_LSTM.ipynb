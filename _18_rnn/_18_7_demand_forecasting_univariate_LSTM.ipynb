{
 "cells": [
  {
   "cell_type": "markdown",
   "metadata": {},
   "source": [
    "```\n",
    "[Title] Univariate LSTM\n",
    "[Author] Yibeck.Lee(yibeck.lee@gmail.com)\n",
    "[reference]\n",
    " - https://machinelearningmastery.com/how-to-develop-lstm-models-for-time-series-forecasting/\n",
    "```"
   ]
  },
  {
   "cell_type": "code",
   "execution_count": 1,
   "metadata": {},
   "outputs": [
    {
     "name": "stderr",
     "output_type": "stream",
     "text": [
      "Using TensorFlow backend.\n"
     ]
    }
   ],
   "source": [
    "from keras.models import Sequential\n",
    "from keras.layers import LSTM\n",
    "from keras.layers import Dense"
   ]
  },
  {
   "cell_type": "code",
   "execution_count": 2,
   "metadata": {},
   "outputs": [],
   "source": [
    "# split a univariate sequence into samples\n",
    "from numpy import array\n",
    "def split_sequence(sequence, n_steps):\n",
    "\tX, y = list(), list()\n",
    "\tfor i in range(len(sequence)):\n",
    "\t\t# find the end of this pattern\n",
    "\t\tend_ix = i + n_steps\n",
    "\t\t# check if we are beyond the sequence\n",
    "\t\tif end_ix > len(sequence)-1:\n",
    "\t\t\tbreak\n",
    "\t\t# gather input and output parts of the pattern\n",
    "\t\tseq_x, seq_y = sequence[i:end_ix], sequence[end_ix]\n",
    "\t\tX.append(seq_x)\n",
    "\t\ty.append(seq_y)\n",
    "\treturn array(X), array(y)"
   ]
  },
  {
   "cell_type": "code",
   "execution_count": 3,
   "metadata": {},
   "outputs": [],
   "source": [
    "# univariate data preparation\n",
    "from numpy import array\n",
    "# define input sequence\n",
    "import pandas as pd\n",
    "df = pd.read_csv(\"MATERIAL_DEMAND_1.csv\")\n",
    "df\n",
    "raw_seq = df[[\"TODAY_DEMAND\"]][:720]\n",
    "raw_seq = raw_seq.values\n",
    "raw_seq\n",
    "# choose a number of time steps\n",
    "n_steps = 3\n",
    "n_features = 1\n",
    "# split into samples\n",
    "X, y = split_sequence(raw_seq, n_steps)\n",
    "# summarize the data\n",
    "#for i in range(len(X)):\n",
    "#\tprint(X[i], y[i])"
   ]
  },
  {
   "cell_type": "code",
   "execution_count": 4,
   "metadata": {},
   "outputs": [
    {
     "name": "stdout",
     "output_type": "stream",
     "text": [
      "WARNING:tensorflow:From C:\\ProgramData\\Anaconda3\\lib\\site-packages\\tensorflow\\python\\framework\\op_def_library.py:263: colocate_with (from tensorflow.python.framework.ops) is deprecated and will be removed in a future version.\n",
      "Instructions for updating:\n",
      "Colocations handled automatically by placer.\n"
     ]
    }
   ],
   "source": [
    "# define model\n",
    "model = Sequential()\n",
    "model.add(LSTM(50, activation='relu', input_shape=(n_steps, n_features)))\n",
    "model.add(Dense(1))\n",
    "model.compile(optimizer='adam', loss='mse')"
   ]
  },
  {
   "cell_type": "code",
   "execution_count": 5,
   "metadata": {},
   "outputs": [],
   "source": [
    "# reshape from [samples, timesteps] into [samples, timesteps, features]\n",
    "X = X.reshape((X.shape[0], X.shape[1], n_features))\n",
    "#for i in range(len(X)):\n",
    "#\tprint(X[i], y[i])"
   ]
  },
  {
   "cell_type": "code",
   "execution_count": 6,
   "metadata": {},
   "outputs": [
    {
     "name": "stdout",
     "output_type": "stream",
     "text": [
      "WARNING:tensorflow:From C:\\ProgramData\\Anaconda3\\lib\\site-packages\\tensorflow\\python\\ops\\math_ops.py:3066: to_int32 (from tensorflow.python.ops.math_ops) is deprecated and will be removed in a future version.\n",
      "Instructions for updating:\n",
      "Use tf.cast instead.\n"
     ]
    },
    {
     "data": {
      "text/plain": [
       "<keras.callbacks.History at 0xf5508d0>"
      ]
     },
     "execution_count": 6,
     "metadata": {},
     "output_type": "execute_result"
    }
   ],
   "source": [
    "# fit model\n",
    "model.fit(X, y, epochs=200, verbose=0)"
   ]
  },
  {
   "cell_type": "code",
   "execution_count": 7,
   "metadata": {},
   "outputs": [
    {
     "name": "stdout",
     "output_type": "stream",
     "text": [
      "1/1 [==============================] - 0s 170ms/step\n"
     ]
    }
   ],
   "source": [
    "# demonstrate prediction\n",
    "x_input = array([2695, 2620, 2654])\n",
    "x_input = x_input.reshape((1, n_steps, n_features))\n",
    "yhat = model.predict(x_input, verbose=1)"
   ]
  },
  {
   "cell_type": "code",
   "execution_count": 8,
   "metadata": {},
   "outputs": [
    {
     "data": {
      "text/plain": [
       "(array([[2699.9495]], dtype=float32), (3, 1))"
      ]
     },
     "execution_count": 8,
     "metadata": {},
     "output_type": "execute_result"
    }
   ],
   "source": [
    "yhat,(n_steps,n_features)"
   ]
  },
  {
   "cell_type": "code",
   "execution_count": 9,
   "metadata": {},
   "outputs": [
    {
     "data": {
      "text/plain": [
       "array([[2738],\n",
       "       [2649],\n",
       "       [2692],\n",
       "       [2715],\n",
       "       [2702],\n",
       "       [2695],\n",
       "       [2620],\n",
       "       [2654],\n",
       "       [2702],\n",
       "       [2754],\n",
       "       [2861],\n",
       "       [2853],\n",
       "       [2819],\n",
       "       [2819],\n",
       "       [2805]], dtype=int64)"
      ]
     },
     "execution_count": 9,
     "metadata": {},
     "output_type": "execute_result"
    }
   ],
   "source": [
    "raw_seq = df[[\"TODAY_DEMAND\"]][720:]\n",
    "x_input = array(raw_seq)\n",
    "x_input\n"
   ]
  },
  {
   "cell_type": "code",
   "execution_count": 10,
   "metadata": {},
   "outputs": [
    {
     "name": "stdout",
     "output_type": "stream",
     "text": [
      "[[2738]\n",
      " [2649]\n",
      " [2692]] [2715]\n",
      "[[2649]\n",
      " [2692]\n",
      " [2715]] [2702]\n",
      "[[2692]\n",
      " [2715]\n",
      " [2702]] [2695]\n",
      "[[2715]\n",
      " [2702]\n",
      " [2695]] [2620]\n",
      "[[2702]\n",
      " [2695]\n",
      " [2620]] [2654]\n",
      "[[2695]\n",
      " [2620]\n",
      " [2654]] [2702]\n",
      "[[2620]\n",
      " [2654]\n",
      " [2702]] [2754]\n",
      "[[2654]\n",
      " [2702]\n",
      " [2754]] [2861]\n",
      "[[2702]\n",
      " [2754]\n",
      " [2861]] [2853]\n",
      "[[2754]\n",
      " [2861]\n",
      " [2853]] [2819]\n",
      "[[2861]\n",
      " [2853]\n",
      " [2819]] [2819]\n",
      "[[2853]\n",
      " [2819]\n",
      " [2819]] [2805]\n"
     ]
    }
   ],
   "source": [
    "X_test, y_test = split_sequence(x_input, n_steps)\n",
    "for i in range(len(X_test)):\n",
    "\tprint(X_test[i], y_test[i])"
   ]
  },
  {
   "cell_type": "code",
   "execution_count": 11,
   "metadata": {},
   "outputs": [
    {
     "data": {
      "text/plain": [
       "(array([[2738],\n",
       "        [2649],\n",
       "        [2692]], dtype=int64), array([2738, 2649, 2692], dtype=int64))"
      ]
     },
     "execution_count": 11,
     "metadata": {},
     "output_type": "execute_result"
    }
   ],
   "source": [
    "x_input = X_test[0].flatten()\n",
    "X_test[0],x_input"
   ]
  },
  {
   "cell_type": "code",
   "execution_count": 15,
   "metadata": {},
   "outputs": [
    {
     "name": "stdout",
     "output_type": "stream",
     "text": [
      "[[[2738]\n",
      "  [2649]\n",
      "  [2692]]]\n",
      "1/1 [==============================] - 0s 0us/step\n"
     ]
    }
   ],
   "source": [
    "x_input = x_input.reshape((1, n_steps, n_features))\n",
    "print(x_input)\n",
    "yhat = model.predict(x_input, verbose=1)"
   ]
  },
  {
   "cell_type": "code",
   "execution_count": 13,
   "metadata": {},
   "outputs": [
    {
     "data": {
      "text/plain": [
       "(array([[2873.8528]], dtype=float32), (3, 1))"
      ]
     },
     "execution_count": 13,
     "metadata": {},
     "output_type": "execute_result"
    }
   ],
   "source": [
    "yhat, (n_steps,n_features)"
   ]
  },
  {
   "cell_type": "code",
   "execution_count": 12,
   "metadata": {},
   "outputs": [
    {
     "name": "stdout",
     "output_type": "stream",
     "text": [
      "1/1 [==============================] - 0s 0us/step\n",
      "[[[2738]\n",
      "  [2649]\n",
      "  [2692]]] [[2738.07]]\n",
      "1/1 [==============================] - 0s 0us/step\n",
      "[[[2649]\n",
      "  [2692]\n",
      "  [2715]]] [[2720.7683]]\n",
      "1/1 [==============================] - 0s 1000us/step\n",
      "[[[2692]\n",
      "  [2715]\n",
      "  [2702]]] [[2740.6216]]\n",
      "1/1 [==============================] - 0s 1000us/step\n",
      "[[[2715]\n",
      "  [2702]\n",
      "  [2695]]] [[2744.2268]]\n",
      "1/1 [==============================] - 0s 1ms/step\n",
      "[[[2702]\n",
      "  [2695]\n",
      "  [2620]]] [[2712.5098]]\n",
      "1/1 [==============================] - 0s 2ms/step\n",
      "[[[2695]\n",
      "  [2620]\n",
      "  [2654]]] [[2699.9495]]\n",
      "1/1 [==============================] - 0s 1ms/step\n",
      "[[[2620]\n",
      "  [2654]\n",
      "  [2702]]] [[2694.0693]]\n",
      "1/1 [==============================] - 0s 1ms/step\n",
      "[[[2654]\n",
      "  [2702]\n",
      "  [2754]]] [[2738.2944]]\n",
      "1/1 [==============================] - 0s 1000us/step\n",
      "[[[2702]\n",
      "  [2754]\n",
      "  [2861]]] [[2807.3064]]\n",
      "1/1 [==============================] - 0s 1ms/step\n",
      "[[[2754]\n",
      "  [2861]\n",
      "  [2853]]] [[2855.734]]\n",
      "1/1 [==============================] - 0s 1ms/step\n",
      "[[[2861]\n",
      "  [2853]\n",
      "  [2819]]] [[2886.5557]]\n",
      "1/1 [==============================] - 0s 1ms/step\n",
      "[[[2853]\n",
      "  [2819]\n",
      "  [2819]]] [[2873.8528]]\n"
     ]
    },
    {
     "data": {
      "text/plain": [
       "[2738.07,\n",
       " 2720.7683,\n",
       " 2740.6216,\n",
       " 2744.2268,\n",
       " 2712.5098,\n",
       " 2699.9495,\n",
       " 2694.0693,\n",
       " 2738.2944,\n",
       " 2807.3064,\n",
       " 2855.734,\n",
       " 2886.5557,\n",
       " 2873.8528]"
      ]
     },
     "execution_count": 12,
     "metadata": {},
     "output_type": "execute_result"
    }
   ],
   "source": [
    "y_pred = []\n",
    "for i in range(len(X_test)):\n",
    "    x_input = X_test[i].flatten()\n",
    "    x_input = x_input.reshape((1, n_steps, n_features))\n",
    "#     print(x_input)\n",
    "    yhat = model.predict(x_input, verbose=1)\n",
    "    print(x_input, yhat)\n",
    "    y_pred.append(yhat[0][0])\n",
    "y_pred"
   ]
  },
  {
   "cell_type": "code",
   "execution_count": null,
   "metadata": {},
   "outputs": [],
   "source": [
    "# define model\n",
    "model = Sequential()\n",
    "model.add(LSTM(50, activation='relu', input_shape=(n_steps, n_features)))\n",
    "model.add(Dense(1))\n",
    "model.add(Dense(1))\n",
    "model.compile(optimizer='adam', loss='mse')\n"
   ]
  }
 ],
 "metadata": {
  "kernelspec": {
   "display_name": "Python 3",
   "language": "python",
   "name": "python3"
  },
  "language_info": {
   "codemirror_mode": {
    "name": "ipython",
    "version": 3
   },
   "file_extension": ".py",
   "mimetype": "text/x-python",
   "name": "python",
   "nbconvert_exporter": "python",
   "pygments_lexer": "ipython3",
   "version": "3.7.3"
  }
 },
 "nbformat": 4,
 "nbformat_minor": 2
}
