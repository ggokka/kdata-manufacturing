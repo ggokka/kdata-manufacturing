{
 "cells": [
  {
   "cell_type": "markdown",
   "metadata": {},
   "source": [
    "```\n",
    "[Title] Univariate LSTM\n",
    "[Author] Jason Brownlee\n",
    "[Etidor] Yibeck.Lee(yibeck.lee@gmail.com)\n",
    "[reference]\n",
    " - https://machinelearningmastery.com/how-to-develop-lstm-models-for-time-series-forecasting/\n",
    "```"
   ]
  },
  {
   "cell_type": "code",
   "execution_count": 1,
   "metadata": {},
   "outputs": [
    {
     "name": "stderr",
     "output_type": "stream",
     "text": [
      "Using TensorFlow backend.\n"
     ]
    }
   ],
   "source": [
    "from keras.models import Sequential\n",
    "from keras.layers import LSTM\n",
    "from keras.layers import Dense"
   ]
  },
  {
   "cell_type": "code",
   "execution_count": 27,
   "metadata": {},
   "outputs": [],
   "source": [
    "# split a univariate sequence into samples\n",
    "from numpy import array\n",
    "def split_sequence(sequence, n_steps):\n",
    "\tX, y = list(), list()\n",
    "\tfor i in range(len(sequence)):\n",
    "\t\tprint(i)\n",
    "\t\t# find the end of this pattern\n",
    "\t\tend_ix = i + n_steps\n",
    "\t\t# check if we are beyond the sequence\n",
    "\t\tif end_ix > len(sequence)-1:\n",
    "\t\t\tbreak\n",
    "\t\t# gather input and output parts of the pattern\n",
    "\t\tseq_x, seq_y = sequence[i:end_ix], sequence[end_ix]\n",
    "\t\tX.append(seq_x)\n",
    "\t\ty.append(seq_y)\n",
    "\treturn array(X), array(y)"
   ]
  },
  {
   "cell_type": "code",
   "execution_count": 30,
   "metadata": {},
   "outputs": [
    {
     "name": "stdout",
     "output_type": "stream",
     "text": [
      "0\n",
      "1\n",
      "2\n",
      "3\n",
      "4\n",
      "5\n",
      "[10 20 30 40] 50\n",
      "[20 30 40 50] 60\n",
      "[30 40 50 60] 70\n",
      "[40 50 60 70] 80\n",
      "[50 60 70 80] 90\n"
     ]
    }
   ],
   "source": [
    "# define input sequence\n",
    "raw_seq = [10, 20, 30, 40, 50, 60, 70, 80, 90]\n",
    "# choose a number of time steps\n",
    "n_steps = 4\n",
    "n_features = 1\n",
    "# split into samples\n",
    "X, y = split_sequence(raw_seq, n_steps)\n",
    "# summarize the data\n",
    "for i in range(len(X)):\n",
    "\tprint(X[i], y[i])"
   ]
  },
  {
   "cell_type": "code",
   "execution_count": 31,
   "metadata": {},
   "outputs": [],
   "source": [
    "# define model\n",
    "model = Sequential()\n",
    "model.add(LSTM(50, activation='relu', input_shape=(n_steps, n_features)))\n",
    "model.add(Dense(1))\n",
    "model.compile(optimizer='adam', loss='mse')"
   ]
  },
  {
   "cell_type": "code",
   "execution_count": 32,
   "metadata": {},
   "outputs": [
    {
     "data": {
      "text/plain": [
       "array([[[10],\n",
       "        [20],\n",
       "        [30],\n",
       "        [40]],\n",
       "\n",
       "       [[20],\n",
       "        [30],\n",
       "        [40],\n",
       "        [50]],\n",
       "\n",
       "       [[30],\n",
       "        [40],\n",
       "        [50],\n",
       "        [60]],\n",
       "\n",
       "       [[40],\n",
       "        [50],\n",
       "        [60],\n",
       "        [70]],\n",
       "\n",
       "       [[50],\n",
       "        [60],\n",
       "        [70],\n",
       "        [80]]])"
      ]
     },
     "execution_count": 32,
     "metadata": {},
     "output_type": "execute_result"
    }
   ],
   "source": [
    "# reshape from [samples, timesteps] into [samples, timesteps, features]\n",
    "X = X.reshape((X.shape[0], X.shape[1], n_features)) #1,3,1\n",
    "X"
   ]
  },
  {
   "cell_type": "code",
   "execution_count": 36,
   "metadata": {},
   "outputs": [
    {
     "name": "stdout",
     "output_type": "stream",
     "text": [
      "Epoch 1/100\n",
      "5/5 [==============================] - 0s 0us/step - loss: 5260.2354\n",
      "Epoch 2/100\n",
      "5/5 [==============================] - 0s 4ms/step - loss: 5089.1729\n",
      "Epoch 3/100\n",
      "5/5 [==============================] - 0s 1ms/step - loss: 4923.6782\n",
      "Epoch 4/100\n",
      "5/5 [==============================] - 0s 1ms/step - loss: 4765.6499\n",
      "Epoch 5/100\n",
      "5/5 [==============================] - 0s 800us/step - loss: 4612.4829\n",
      "Epoch 6/100\n",
      "5/5 [==============================] - 0s 600us/step - loss: 4465.2866\n",
      "Epoch 7/100\n",
      "5/5 [==============================] - 0s 800us/step - loss: 4328.5122\n",
      "Epoch 8/100\n",
      "5/5 [==============================] - 0s 800us/step - loss: 4199.0425\n",
      "Epoch 9/100\n",
      "5/5 [==============================] - 0s 600us/step - loss: 4072.4165\n",
      "Epoch 10/100\n",
      "5/5 [==============================] - 0s 600us/step - loss: 3948.2949\n",
      "Epoch 11/100\n",
      "5/5 [==============================] - 0s 600us/step - loss: 3816.3804\n",
      "Epoch 12/100\n",
      "5/5 [==============================] - 0s 600us/step - loss: 3682.9636\n",
      "Epoch 13/100\n",
      "5/5 [==============================] - 0s 800us/step - loss: 3547.6206\n",
      "Epoch 14/100\n",
      "5/5 [==============================] - 0s 1ms/step - loss: 3407.5149\n",
      "Epoch 15/100\n",
      "5/5 [==============================] - 0s 600us/step - loss: 3260.4924\n",
      "Epoch 16/100\n",
      "5/5 [==============================] - 0s 600us/step - loss: 3115.6265\n",
      "Epoch 17/100\n",
      "5/5 [==============================] - 0s 600us/step - loss: 2970.7864\n",
      "Epoch 18/100\n",
      "5/5 [==============================] - 0s 800us/step - loss: 2823.8843\n",
      "Epoch 19/100\n",
      "5/5 [==============================] - 0s 2ms/step - loss: 2674.7124\n",
      "Epoch 20/100\n",
      "5/5 [==============================] - 0s 800us/step - loss: 2541.0833\n",
      "Epoch 21/100\n",
      "5/5 [==============================] - 0s 2ms/step - loss: 2414.2949\n",
      "Epoch 22/100\n",
      "5/5 [==============================] - 0s 1ms/step - loss: 2286.9568\n",
      "Epoch 23/100\n",
      "5/5 [==============================] - 0s 800us/step - loss: 2158.6494\n",
      "Epoch 24/100\n",
      "5/5 [==============================] - 0s 600us/step - loss: 2029.1029\n",
      "Epoch 25/100\n",
      "5/5 [==============================] - 0s 600us/step - loss: 1894.9095\n",
      "Epoch 26/100\n",
      "5/5 [==============================] - 0s 600us/step - loss: 1756.7849\n",
      "Epoch 27/100\n",
      "5/5 [==============================] - 0s 600us/step - loss: 1615.6399\n",
      "Epoch 28/100\n",
      "5/5 [==============================] - 0s 600us/step - loss: 1474.8035\n",
      "Epoch 29/100\n",
      "5/5 [==============================] - 0s 800us/step - loss: 1332.3297\n",
      "Epoch 30/100\n",
      "5/5 [==============================] - 0s 600us/step - loss: 1192.4121\n",
      "Epoch 31/100\n",
      "5/5 [==============================] - 0s 600us/step - loss: 1057.0076\n",
      "Epoch 32/100\n",
      "5/5 [==============================] - 0s 600us/step - loss: 921.2947\n",
      "Epoch 33/100\n",
      "5/5 [==============================] - 0s 800us/step - loss: 793.8299\n",
      "Epoch 34/100\n",
      "5/5 [==============================] - 0s 600us/step - loss: 669.9696\n",
      "Epoch 35/100\n",
      "5/5 [==============================] - 0s 600us/step - loss: 556.8542\n",
      "Epoch 36/100\n",
      "5/5 [==============================] - 0s 600us/step - loss: 447.9497\n",
      "Epoch 37/100\n",
      "5/5 [==============================] - 0s 600us/step - loss: 340.4085\n",
      "Epoch 38/100\n",
      "5/5 [==============================] - 0s 600us/step - loss: 240.9372\n",
      "Epoch 39/100\n",
      "5/5 [==============================] - 0s 600us/step - loss: 161.7154\n",
      "Epoch 40/100\n",
      "5/5 [==============================] - 0s 600us/step - loss: 110.5850\n",
      "Epoch 41/100\n",
      "5/5 [==============================] - 0s 1ms/step - loss: 92.0927\n",
      "Epoch 42/100\n",
      "5/5 [==============================] - 0s 600us/step - loss: 104.3086\n",
      "Epoch 43/100\n",
      "5/5 [==============================] - 0s 800us/step - loss: 130.3495\n",
      "Epoch 44/100\n",
      "5/5 [==============================] - 0s 600us/step - loss: 150.6874\n",
      "Epoch 45/100\n",
      "5/5 [==============================] - 0s 600us/step - loss: 159.0386\n",
      "Epoch 46/100\n",
      "5/5 [==============================] - 0s 800us/step - loss: 152.7527\n",
      "Epoch 47/100\n",
      "5/5 [==============================] - 0s 800us/step - loss: 135.0735\n",
      "Epoch 48/100\n",
      "5/5 [==============================] - 0s 800us/step - loss: 112.6601\n",
      "Epoch 49/100\n",
      "5/5 [==============================] - 0s 600us/step - loss: 91.5591\n",
      "Epoch 50/100\n",
      "5/5 [==============================] - 0s 600us/step - loss: 73.1025\n",
      "Epoch 51/100\n",
      "5/5 [==============================] - 0s 800us/step - loss: 59.6400\n",
      "Epoch 52/100\n",
      "5/5 [==============================] - 0s 600us/step - loss: 48.7708\n",
      "Epoch 53/100\n",
      "5/5 [==============================] - 0s 600us/step - loss: 39.7782\n",
      "Epoch 54/100\n",
      "5/5 [==============================] - 0s 800us/step - loss: 32.2671\n",
      "Epoch 55/100\n",
      "5/5 [==============================] - 0s 1ms/step - loss: 26.0094\n",
      "Epoch 56/100\n",
      "5/5 [==============================] - 0s 600us/step - loss: 21.2777\n",
      "Epoch 57/100\n",
      "5/5 [==============================] - 0s 600us/step - loss: 16.8824\n",
      "Epoch 58/100\n",
      "5/5 [==============================] - 0s 800us/step - loss: 12.6880\n",
      "Epoch 59/100\n",
      "5/5 [==============================] - 0s 600us/step - loss: 11.0102\n",
      "Epoch 60/100\n",
      "5/5 [==============================] - 0s 600us/step - loss: 9.1187\n",
      "Epoch 61/100\n",
      "5/5 [==============================] - 0s 600us/step - loss: 7.3358\n",
      "Epoch 62/100\n",
      "5/5 [==============================] - 0s 600us/step - loss: 5.9146\n",
      "Epoch 63/100\n",
      "5/5 [==============================] - 0s 800us/step - loss: 5.4860\n",
      "Epoch 64/100\n",
      "5/5 [==============================] - 0s 600us/step - loss: 5.3974\n",
      "Epoch 65/100\n",
      "5/5 [==============================] - 0s 600us/step - loss: 5.1642\n",
      "Epoch 66/100\n",
      "5/5 [==============================] - 0s 800us/step - loss: 4.7973\n",
      "Epoch 67/100\n",
      "5/5 [==============================] - 0s 600us/step - loss: 4.3570\n",
      "Epoch 68/100\n",
      "5/5 [==============================] - 0s 800us/step - loss: 3.8585\n",
      "Epoch 69/100\n",
      "5/5 [==============================] - 0s 800us/step - loss: 3.3533\n",
      "Epoch 70/100\n",
      "5/5 [==============================] - 0s 600us/step - loss: 3.0082\n",
      "Epoch 71/100\n",
      "5/5 [==============================] - 0s 600us/step - loss: 2.8909\n",
      "Epoch 72/100\n",
      "5/5 [==============================] - 0s 600us/step - loss: 2.8796\n",
      "Epoch 73/100\n",
      "5/5 [==============================] - 0s 600us/step - loss: 2.8106\n",
      "Epoch 74/100\n",
      "5/5 [==============================] - 0s 600us/step - loss: 2.6644\n",
      "Epoch 75/100\n",
      "5/5 [==============================] - 0s 800us/step - loss: 2.5307\n",
      "Epoch 76/100\n",
      "5/5 [==============================] - 0s 600us/step - loss: 2.4120\n",
      "Epoch 77/100\n",
      "5/5 [==============================] - 0s 600us/step - loss: 2.2677\n",
      "Epoch 78/100\n",
      "5/5 [==============================] - 0s 600us/step - loss: 2.0688\n",
      "Epoch 79/100\n",
      "5/5 [==============================] - 0s 600us/step - loss: 1.8912\n",
      "Epoch 80/100\n",
      "5/5 [==============================] - 0s 600us/step - loss: 1.7669\n",
      "Epoch 81/100\n",
      "5/5 [==============================] - 0s 600us/step - loss: 1.7021\n",
      "Epoch 82/100\n",
      "5/5 [==============================] - 0s 600us/step - loss: 1.6314\n",
      "Epoch 83/100\n",
      "5/5 [==============================] - 0s 800us/step - loss: 1.5462\n",
      "Epoch 84/100\n",
      "5/5 [==============================] - 0s 600us/step - loss: 1.4836\n",
      "Epoch 85/100\n",
      "5/5 [==============================] - 0s 600us/step - loss: 1.4227\n",
      "Epoch 86/100\n",
      "5/5 [==============================] - 0s 600us/step - loss: 1.3002\n",
      "Epoch 87/100\n",
      "5/5 [==============================] - 0s 600us/step - loss: 1.1357\n",
      "Epoch 88/100\n",
      "5/5 [==============================] - 0s 600us/step - loss: 0.9913\n",
      "Epoch 89/100\n",
      "5/5 [==============================] - 0s 600us/step - loss: 0.8830\n",
      "Epoch 90/100\n",
      "5/5 [==============================] - 0s 800us/step - loss: 0.7744\n",
      "Epoch 91/100\n",
      "5/5 [==============================] - 0s 800us/step - loss: 0.6862\n",
      "Epoch 92/100\n",
      "5/5 [==============================] - 0s 800us/step - loss: 0.6609\n",
      "Epoch 93/100\n",
      "5/5 [==============================] - 0s 600us/step - loss: 0.6363\n",
      "Epoch 94/100\n",
      "5/5 [==============================] - 0s 800us/step - loss: 0.5975\n",
      "Epoch 95/100\n",
      "5/5 [==============================] - 0s 600us/step - loss: 0.5562\n",
      "Epoch 96/100\n",
      "5/5 [==============================] - 0s 600us/step - loss: 0.5249\n",
      "Epoch 97/100\n",
      "5/5 [==============================] - 0s 800us/step - loss: 0.4881\n",
      "Epoch 98/100\n",
      "5/5 [==============================] - 0s 800us/step - loss: 0.4431\n",
      "Epoch 99/100\n",
      "5/5 [==============================] - 0s 800us/step - loss: 0.4071\n",
      "Epoch 100/100\n",
      "5/5 [==============================] - 0s 600us/step - loss: 0.3772\n"
     ]
    },
    {
     "data": {
      "text/plain": [
       "<keras.callbacks.History at 0x1a49acc0>"
      ]
     },
     "execution_count": 36,
     "metadata": {},
     "output_type": "execute_result"
    }
   ],
   "source": [
    "# fit model\n",
    "model.fit(X, y, epochs=100, verbose=1) #log를 0 않씀 1 사용"
   ]
  },
  {
   "cell_type": "code",
   "execution_count": 37,
   "metadata": {},
   "outputs": [
    {
     "name": "stdout",
     "output_type": "stream",
     "text": [
      "1/1 [==============================] - 0s 0us/step\n"
     ]
    }
   ],
   "source": [
    "# demonstrate prediction\n",
    "x_input = array([70, 80, 90,100])\n",
    "x_input = x_input.reshape((1, n_steps, n_features))\n",
    "yhat = model.predict(x_input, verbose=1)"
   ]
  },
  {
   "cell_type": "code",
   "execution_count": 38,
   "metadata": {},
   "outputs": [
    {
     "data": {
      "text/plain": [
       "(array([[[ 70],\n",
       "         [ 80],\n",
       "         [ 90],\n",
       "         [100]]]), array([[111.9794]], dtype=float32))"
      ]
     },
     "execution_count": 38,
     "metadata": {},
     "output_type": "execute_result"
    }
   ],
   "source": [
    "x_input,yhat"
   ]
  },
  {
   "cell_type": "code",
   "execution_count": null,
   "metadata": {},
   "outputs": [],
   "source": []
  }
 ],
 "metadata": {
  "kernelspec": {
   "display_name": "Python 3",
   "language": "python",
   "name": "python3"
  },
  "language_info": {
   "codemirror_mode": {
    "name": "ipython",
    "version": 3
   },
   "file_extension": ".py",
   "mimetype": "text/x-python",
   "name": "python",
   "nbconvert_exporter": "python",
   "pygments_lexer": "ipython3",
   "version": "3.7.3"
  }
 },
 "nbformat": 4,
 "nbformat_minor": 2
}
