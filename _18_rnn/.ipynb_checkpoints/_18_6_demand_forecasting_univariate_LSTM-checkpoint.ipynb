{
 "cells": [
  {
   "cell_type": "markdown",
   "metadata": {},
   "source": [
    "```\n",
    "[Title] Univariate LSTM\n",
    "[Author] Yibeck.Lee(yibeck.lee@gmail.com)\n",
    "[reference]\n",
    " - https://machinelearningmastery.com/how-to-develop-lstm-models-for-time-series-forecasting/\n",
    "```"
   ]
  },
  {
   "cell_type": "code",
   "execution_count": 19,
   "metadata": {},
   "outputs": [],
   "source": [
    "from keras.models import Sequential\n",
    "from keras.layers import LSTM\n",
    "from keras.layers import Dense"
   ]
  },
  {
   "cell_type": "code",
   "execution_count": 20,
   "metadata": {},
   "outputs": [],
   "source": [
    "# split a univariate sequence into samples\n",
    "from numpy import array\n",
    "def split_sequence(sequence, n_steps):\n",
    "\tX, y = list(), list()\n",
    "\tfor i in range(len(sequence)):\n",
    "\t\t# find the end of this pattern\n",
    "\t\tend_ix = i + n_steps\n",
    "\t\t# check if we are beyond the sequence\n",
    "\t\tif end_ix > len(sequence)-1:\n",
    "\t\t\tbreak\n",
    "\t\t# gather input and output parts of the pattern\n",
    "\t\tseq_x, seq_y = sequence[i:end_ix], sequence[end_ix]\n",
    "\t\tX.append(seq_x)\n",
    "\t\ty.append(seq_y)\n",
    "\treturn array(X), array(y)"
   ]
  },
  {
   "cell_type": "code",
   "execution_count": 21,
   "metadata": {},
   "outputs": [],
   "source": [
    "# univariate data preparation\n",
    "from numpy import array\n",
    "# define input sequence\n",
    "import pandas as pd\n",
    "df = pd.read_csv(\"MATERIAL_DEMAND_1.csv\")\n",
    "df\n",
    "raw_seq = df[[\"TODAY_DEMAND\"]][:720]\n",
    "raw_seq = raw_seq.values\n",
    "raw_seq\n",
    "# choose a number of time steps\n",
    "n_steps = 3\n",
    "n_features = 1\n",
    "# split into samples\n",
    "X, y = split_sequence(raw_seq, n_steps)\n",
    "# summarize the data\n",
    "#for i in range(len(X)):\n",
    "#\tprint(X[i], y[i])"
   ]
  },
  {
   "cell_type": "code",
   "execution_count": 22,
   "metadata": {},
   "outputs": [],
   "source": [
    "# define model\n",
    "model = Sequential()\n",
    "model.add(LSTM(50, activation='relu', input_shape=(n_steps, n_features)))\n",
    "model.add(Dense(1))\n",
    "model.compile(optimizer='adam', loss='mse')"
   ]
  },
  {
   "cell_type": "code",
   "execution_count": 23,
   "metadata": {},
   "outputs": [],
   "source": [
    "# reshape from [samples, timesteps] into [samples, timesteps, features]\n",
    "X = X.reshape((X.shape[0], X.shape[1], n_features))\n",
    "#for i in range(len(X)):\n",
    "#\tprint(X[i], y[i])"
   ]
  },
  {
   "cell_type": "code",
   "execution_count": 24,
   "metadata": {},
   "outputs": [
    {
     "data": {
      "text/plain": [
       "<keras.callbacks.History at 0x604e198>"
      ]
     },
     "execution_count": 24,
     "metadata": {},
     "output_type": "execute_result"
    }
   ],
   "source": [
    "# fit model\n",
    "model.fit(X, y, epochs=200, verbose=0)"
   ]
  },
  {
   "cell_type": "code",
   "execution_count": 25,
   "metadata": {},
   "outputs": [
    {
     "name": "stdout",
     "output_type": "stream",
     "text": [
      "1/1 [==============================] - 0s 217ms/step\n"
     ]
    }
   ],
   "source": [
    "# demonstrate prediction\n",
    "x_input = array([2695, 2620, 2654])\n",
    "x_input = x_input.reshape((1, n_steps, n_features))\n",
    "yhat = model.predict(x_input, verbose=1)"
   ]
  },
  {
   "cell_type": "code",
   "execution_count": 26,
   "metadata": {},
   "outputs": [
    {
     "data": {
      "text/plain": [
       "(array([[2669.6667]], dtype=float32), (3, 1))"
      ]
     },
     "execution_count": 26,
     "metadata": {},
     "output_type": "execute_result"
    }
   ],
   "source": [
    "yhat,(n_steps,n_features)"
   ]
  },
  {
   "cell_type": "code",
   "execution_count": 12,
   "metadata": {},
   "outputs": [
    {
     "data": {
      "text/plain": [
       "array([[2738],\n",
       "       [2649],\n",
       "       [2692],\n",
       "       [2715],\n",
       "       [2702],\n",
       "       [2695],\n",
       "       [2620],\n",
       "       [2654],\n",
       "       [2702],\n",
       "       [2754],\n",
       "       [2861],\n",
       "       [2853],\n",
       "       [2819],\n",
       "       [2819],\n",
       "       [2805]], dtype=int64)"
      ]
     },
     "execution_count": 12,
     "metadata": {},
     "output_type": "execute_result"
    }
   ],
   "source": [
    "raw_seq = df[[\"TODAY_DEMAND\"]][720:]\n",
    "x_input = array(raw_seq)\n",
    "x_input\n"
   ]
  },
  {
   "cell_type": "code",
   "execution_count": 13,
   "metadata": {},
   "outputs": [
    {
     "name": "stdout",
     "output_type": "stream",
     "text": [
      "[[2738]\n",
      " [2649]\n",
      " [2692]] [2715]\n",
      "[[2649]\n",
      " [2692]\n",
      " [2715]] [2702]\n",
      "[[2692]\n",
      " [2715]\n",
      " [2702]] [2695]\n",
      "[[2715]\n",
      " [2702]\n",
      " [2695]] [2620]\n",
      "[[2702]\n",
      " [2695]\n",
      " [2620]] [2654]\n",
      "[[2695]\n",
      " [2620]\n",
      " [2654]] [2702]\n",
      "[[2620]\n",
      " [2654]\n",
      " [2702]] [2754]\n",
      "[[2654]\n",
      " [2702]\n",
      " [2754]] [2861]\n",
      "[[2702]\n",
      " [2754]\n",
      " [2861]] [2853]\n",
      "[[2754]\n",
      " [2861]\n",
      " [2853]] [2819]\n",
      "[[2861]\n",
      " [2853]\n",
      " [2819]] [2819]\n",
      "[[2853]\n",
      " [2819]\n",
      " [2819]] [2805]\n"
     ]
    }
   ],
   "source": [
    "X_test, y_test = split_sequence(x_input, n_steps)\n",
    "for i in range(len(X_test)):\n",
    "\tprint(X_test[i], y_test[i])"
   ]
  },
  {
   "cell_type": "code",
   "execution_count": 14,
   "metadata": {},
   "outputs": [
    {
     "data": {
      "text/plain": [
       "array([2738, 2649, 2692], dtype=int64)"
      ]
     },
     "execution_count": 14,
     "metadata": {},
     "output_type": "execute_result"
    }
   ],
   "source": [
    "x_input = X_test[0].flatten()\n",
    "x_input"
   ]
  },
  {
   "cell_type": "code",
   "execution_count": 15,
   "metadata": {},
   "outputs": [
    {
     "name": "stdout",
     "output_type": "stream",
     "text": [
      "[[[2738]\n",
      "  [2649]\n",
      "  [2692]]]\n",
      "1/1 [==============================] - 0s 0us/step\n"
     ]
    }
   ],
   "source": [
    "x_input = x_input.reshape((1, n_steps, n_features))\n",
    "print(x_input)\n",
    "yhat = model.predict(x_input, verbose=1)"
   ]
  },
  {
   "cell_type": "code",
   "execution_count": 16,
   "metadata": {},
   "outputs": [
    {
     "data": {
      "text/plain": [
       "array([[2723.9824]], dtype=float32)"
      ]
     },
     "execution_count": 16,
     "metadata": {},
     "output_type": "execute_result"
    }
   ],
   "source": [
    "yhat"
   ]
  },
  {
   "cell_type": "code",
   "execution_count": 17,
   "metadata": {},
   "outputs": [
    {
     "name": "stdout",
     "output_type": "stream",
     "text": [
      "1/1 [==============================] - 0s 16ms/step\n",
      "[[[2738]\n",
      "  [2649]\n",
      "  [2692]]] [[2723.9824]]\n",
      "1/1 [==============================] - 0s 0us/step\n",
      "[[[2649]\n",
      "  [2692]\n",
      "  [2715]]] [[2697.178]]\n",
      "1/1 [==============================] - 0s 0us/step\n",
      "[[[2692]\n",
      "  [2715]\n",
      "  [2702]]] [[2725.5286]]\n",
      "1/1 [==============================] - 0s 0us/step\n",
      "[[[2715]\n",
      "  [2702]\n",
      "  [2695]]] [[2731.6316]]\n",
      "1/1 [==============================] - 0s 0us/step\n",
      "[[[2702]\n",
      "  [2695]\n",
      "  [2620]]] [[2711.9531]]\n",
      "1/1 [==============================] - 0s 0us/step\n",
      "[[[2695]\n",
      "  [2620]\n",
      "  [2654]]] [[2686.3176]]\n",
      "1/1 [==============================] - 0s 1ms/step\n",
      "[[[2620]\n",
      "  [2654]\n",
      "  [2702]]] [[2666.9507]]\n",
      "1/1 [==============================] - 0s 1ms/step\n",
      "[[[2654]\n",
      "  [2702]\n",
      "  [2754]]] [[2708.7883]]\n",
      "1/1 [==============================] - 0s 1000us/step\n",
      "[[[2702]\n",
      "  [2754]\n",
      "  [2861]]] [[2766.932]]\n",
      "1/1 [==============================] - 0s 2ms/step\n",
      "[[[2754]\n",
      "  [2861]\n",
      "  [2853]]] [[2830.64]]\n",
      "1/1 [==============================] - 0s 1ms/step\n",
      "[[[2861]\n",
      "  [2853]\n",
      "  [2819]]] [[2877.6113]]\n",
      "1/1 [==============================] - 0s 1ms/step\n",
      "[[[2853]\n",
      "  [2819]\n",
      "  [2819]]] [[2861.3608]]\n"
     ]
    },
    {
     "data": {
      "text/plain": [
       "[2723.9824,\n",
       " 2697.178,\n",
       " 2725.5286,\n",
       " 2731.6316,\n",
       " 2711.9531,\n",
       " 2686.3176,\n",
       " 2666.9507,\n",
       " 2708.7883,\n",
       " 2766.932,\n",
       " 2830.64,\n",
       " 2877.6113,\n",
       " 2861.3608]"
      ]
     },
     "execution_count": 17,
     "metadata": {},
     "output_type": "execute_result"
    }
   ],
   "source": [
    "y_pred = []\n",
    "for i in range(len(X_test)):\n",
    "    x_input = X_test[i].flatten()\n",
    "    x_input = x_input.reshape((1, n_steps, n_features))\n",
    "#     print(x_input)\n",
    "    yhat = model.predict(x_input, verbose=1)\n",
    "    print(x_input, yhat)\n",
    "    y_pred.append(yhat[0][0])\n",
    "y_pred"
   ]
  },
  {
   "cell_type": "code",
   "execution_count": null,
   "metadata": {},
   "outputs": [],
   "source": []
  }
 ],
 "metadata": {
  "kernelspec": {
   "display_name": "Python 3",
   "language": "python",
   "name": "python3"
  },
  "language_info": {
   "codemirror_mode": {
    "name": "ipython",
    "version": 3
   },
   "file_extension": ".py",
   "mimetype": "text/x-python",
   "name": "python",
   "nbconvert_exporter": "python",
   "pygments_lexer": "ipython3",
   "version": "3.7.3"
  }
 },
 "nbformat": 4,
 "nbformat_minor": 2
}
