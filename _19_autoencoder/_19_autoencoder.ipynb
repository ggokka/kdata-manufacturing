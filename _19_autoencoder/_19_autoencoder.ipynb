{
 "cells": [
  {
   "cell_type": "markdown",
   "metadata": {},
   "source": [
    "```\n",
    "[Title] Autoencoder using Tensorflow.Keras\n",
    "[Author] Yibeck Lee(yibec.Lee@gmail.com)\n",
    "[Contents]\n",
    " - Aucoencoder for Dimension Reduction\n",
    "[References]\n",
    " - https://towardsdatascience.com/pca-vs-autoencoders-1ba08362f450\n",
    " - https://medium.com/datadriveninvestor/deep-autoencoder-using-keras-b77cd3e8be95\n",
    "```"
   ]
  },
  {
   "cell_type": "code",
   "execution_count": 1,
   "metadata": {},
   "outputs": [
    {
     "name": "stderr",
     "output_type": "stream",
     "text": [
      "Using TensorFlow backend.\n"
     ]
    }
   ],
   "source": [
    "from keras.layers import Input, Dense\n",
    "from keras.models import Model\n",
    "import numpy as np"
   ]
  },
  {
   "cell_type": "code",
   "execution_count": 2,
   "metadata": {},
   "outputs": [
    {
     "name": "stdout",
     "output_type": "stream",
     "text": [
      "[[1 1 1]\n",
      " [1 1 1]\n",
      " [1 1 1]\n",
      " [1 1 1]\n",
      " [1 2 3]\n",
      " [2 2 2]\n",
      " [2 2 2]\n",
      " [2 2 2]\n",
      " [2 2 2]\n",
      " [1 3 5]]\n"
     ]
    }
   ],
   "source": [
    "trainFeatures = np.array([\n",
    "  [1,1,1]\n",
    ", [1,1,1]\n",
    ", [1,1,1]\n",
    ", [1,1,1]\n",
    ", [1,2,3]\n",
    ", [2,2,2]\n",
    ", [2,2,2]\n",
    ", [2,2,2]\n",
    ", [2,2,2]\n",
    ", [1,3,5]\n",
    "])\n",
    "print(trainFeatures)"
   ]
  },
  {
   "cell_type": "code",
   "execution_count": 3,
   "metadata": {},
   "outputs": [
    {
     "name": "stdout",
     "output_type": "stream",
     "text": [
      "WARNING:tensorflow:From C:\\ProgramData\\Anaconda3\\lib\\site-packages\\tensorflow\\python\\framework\\op_def_library.py:263: colocate_with (from tensorflow.python.framework.ops) is deprecated and will be removed in a future version.\n",
      "Instructions for updating:\n",
      "Colocations handled automatically by placer.\n"
     ]
    }
   ],
   "source": [
    "encoding_dim = 2\n",
    "input_img = Input(shape=(3,))\n",
    "encoded = Dense(encoding_dim)(input_img)\n",
    "decoded = Dense(3)(encoded)\n",
    "autoencoder = Model(input_img, decoded)\n",
    "autoencoder.compile(optimizer='adadelta', loss='mse')"
   ]
  },
  {
   "cell_type": "code",
   "execution_count": 4,
   "metadata": {},
   "outputs": [
    {
     "name": "stdout",
     "output_type": "stream",
     "text": [
      "WARNING:tensorflow:From C:\\ProgramData\\Anaconda3\\lib\\site-packages\\tensorflow\\python\\ops\\math_ops.py:3066: to_int32 (from tensorflow.python.ops.math_ops) is deprecated and will be removed in a future version.\n",
      "Instructions for updating:\n",
      "Use tf.cast instead.\n",
      "Epoch 1/100\n",
      "10/10 [==============================] - 0s 34ms/step - loss: 4.7910\n",
      "Epoch 2/100\n",
      "10/10 [==============================] - 0s 499us/step - loss: 4.6355\n",
      "Epoch 3/100\n",
      "10/10 [==============================] - 0s 499us/step - loss: 4.4928\n",
      "Epoch 4/100\n",
      "10/10 [==============================] - 0s 698us/step - loss: 4.3615\n",
      "Epoch 5/100\n",
      "10/10 [==============================] - 0s 698us/step - loss: 4.2369\n",
      "Epoch 6/100\n",
      "10/10 [==============================] - 0s 695us/step - loss: 4.1190\n",
      "Epoch 7/100\n",
      "10/10 [==============================] - 0s 602us/step - loss: 4.0072\n",
      "Epoch 8/100\n",
      "10/10 [==============================] - 0s 1ms/step - loss: 3.9035\n",
      "Epoch 9/100\n",
      "10/10 [==============================] - 0s 798us/step - loss: 3.8036\n",
      "Epoch 10/100\n",
      "10/10 [==============================] - 0s 997us/step - loss: 3.7120\n",
      "Epoch 11/100\n",
      "10/10 [==============================] - 0s 698us/step - loss: 3.6205\n",
      "Epoch 12/100\n",
      "10/10 [==============================] - 0s 598us/step - loss: 3.5372\n",
      "Epoch 13/100\n",
      "10/10 [==============================] - 0s 798us/step - loss: 3.4563\n",
      "Epoch 14/100\n",
      "10/10 [==============================] - 0s 901us/step - loss: 3.3791\n",
      "Epoch 15/100\n",
      "10/10 [==============================] - 0s 602us/step - loss: 3.3036\n",
      "Epoch 16/100\n",
      "10/10 [==============================] - 0s 694us/step - loss: 3.2313\n",
      "Epoch 17/100\n",
      "10/10 [==============================] - 0s 499us/step - loss: 3.1603\n",
      "Epoch 18/100\n",
      "10/10 [==============================] - 0s 897us/step - loss: 3.0930\n",
      "Epoch 19/100\n",
      "10/10 [==============================] - 0s 798us/step - loss: 3.0266\n",
      "Epoch 20/100\n",
      "10/10 [==============================] - 0s 499us/step - loss: 2.9602\n",
      "Epoch 21/100\n",
      "10/10 [==============================] - 0s 798us/step - loss: 2.8972\n",
      "Epoch 22/100\n",
      "10/10 [==============================] - 0s 598us/step - loss: 2.8348\n",
      "Epoch 23/100\n",
      "10/10 [==============================] - 0s 801us/step - loss: 2.7747\n",
      "Epoch 24/100\n",
      "10/10 [==============================] - 0s 598us/step - loss: 2.7147\n",
      "Epoch 25/100\n",
      "10/10 [==============================] - 0s 598us/step - loss: 2.6571\n",
      "Epoch 26/100\n",
      "10/10 [==============================] - 0s 997us/step - loss: 2.6012\n",
      "Epoch 27/100\n",
      "10/10 [==============================] - 0s 499us/step - loss: 2.5433\n",
      "Epoch 28/100\n",
      "10/10 [==============================] - 0s 499us/step - loss: 2.4890\n",
      "Epoch 29/100\n",
      "10/10 [==============================] - 0s 598us/step - loss: 2.4316\n",
      "Epoch 30/100\n",
      "10/10 [==============================] - 0s 699us/step - loss: 2.3781\n",
      "Epoch 31/100\n",
      "10/10 [==============================] - 0s 598us/step - loss: 2.3277\n",
      "Epoch 32/100\n",
      "10/10 [==============================] - 0s 598us/step - loss: 2.2714\n",
      "Epoch 33/100\n",
      "10/10 [==============================] - 0s 598us/step - loss: 2.2195\n",
      "Epoch 34/100\n",
      "10/10 [==============================] - 0s 598us/step - loss: 2.1664\n",
      "Epoch 35/100\n",
      "10/10 [==============================] - 0s 499us/step - loss: 2.1194\n",
      "Epoch 36/100\n",
      "10/10 [==============================] - 0s 698us/step - loss: 2.0662\n",
      "Epoch 37/100\n",
      "10/10 [==============================] - 0s 997us/step - loss: 2.0163\n",
      "Epoch 38/100\n",
      "10/10 [==============================] - 0s 698us/step - loss: 1.9665\n",
      "Epoch 39/100\n",
      "10/10 [==============================] - 0s 498us/step - loss: 1.9170\n",
      "Epoch 40/100\n",
      "10/10 [==============================] - 0s 598us/step - loss: 1.8731\n",
      "Epoch 41/100\n",
      "10/10 [==============================] - 0s 499us/step - loss: 1.8229\n",
      "Epoch 42/100\n",
      "10/10 [==============================] - 0s 698us/step - loss: 1.7764\n",
      "Epoch 43/100\n",
      "10/10 [==============================] - 0s 997us/step - loss: 1.7338\n",
      "Epoch 44/100\n",
      "10/10 [==============================] - 0s 598us/step - loss: 1.6840\n",
      "Epoch 45/100\n",
      "10/10 [==============================] - 0s 499us/step - loss: 1.6387\n",
      "Epoch 46/100\n",
      "10/10 [==============================] - 0s 598us/step - loss: 1.5940\n",
      "Epoch 47/100\n",
      "10/10 [==============================] - 0s 898us/step - loss: 1.5511\n",
      "Epoch 48/100\n",
      "10/10 [==============================] - 0s 598us/step - loss: 1.5063\n",
      "Epoch 49/100\n",
      "10/10 [==============================] - 0s 499us/step - loss: 1.4679\n",
      "Epoch 50/100\n",
      "10/10 [==============================] - 0s 499us/step - loss: 1.4229\n",
      "Epoch 51/100\n",
      "10/10 [==============================] - 0s 698us/step - loss: 1.3833\n",
      "Epoch 52/100\n",
      "10/10 [==============================] - 0s 898us/step - loss: 1.3424\n",
      "Epoch 53/100\n",
      "10/10 [==============================] - 0s 698us/step - loss: 1.3034\n",
      "Epoch 54/100\n",
      "10/10 [==============================] - 0s 498us/step - loss: 1.2660\n",
      "Epoch 55/100\n",
      "10/10 [==============================] - 0s 598us/step - loss: 1.2316\n",
      "Epoch 56/100\n",
      "10/10 [==============================] - 0s 598us/step - loss: 1.1917\n",
      "Epoch 57/100\n",
      "10/10 [==============================] - 0s 499us/step - loss: 1.1550\n",
      "Epoch 58/100\n",
      "10/10 [==============================] - 0s 700us/step - loss: 1.1199\n",
      "Epoch 59/100\n",
      "10/10 [==============================] - 0s 499us/step - loss: 1.0859\n",
      "Epoch 60/100\n",
      "10/10 [==============================] - 0s 598us/step - loss: 1.0533\n",
      "Epoch 61/100\n",
      "10/10 [==============================] - 0s 598us/step - loss: 1.0255\n",
      "Epoch 62/100\n",
      "10/10 [==============================] - 0s 499us/step - loss: 0.9903\n",
      "Epoch 63/100\n",
      "10/10 [==============================] - 0s 798us/step - loss: 0.9600\n",
      "Epoch 64/100\n",
      "10/10 [==============================] - 0s 698us/step - loss: 0.9323\n",
      "Epoch 65/100\n",
      "10/10 [==============================] - 0s 898us/step - loss: 0.9037\n",
      "Epoch 66/100\n",
      "10/10 [==============================] - 0s 598us/step - loss: 0.8762\n",
      "Epoch 67/100\n",
      "10/10 [==============================] - 0s 499us/step - loss: 0.8478\n",
      "Epoch 68/100\n",
      "10/10 [==============================] - 0s 499us/step - loss: 0.8237\n",
      "Epoch 69/100\n",
      "10/10 [==============================] - 0s 598us/step - loss: 0.8014\n",
      "Epoch 70/100\n",
      "10/10 [==============================] - 0s 598us/step - loss: 0.7737\n",
      "Epoch 71/100\n",
      "10/10 [==============================] - 0s 499us/step - loss: 0.7508\n",
      "Epoch 72/100\n",
      "10/10 [==============================] - 0s 798us/step - loss: 0.7306\n",
      "Epoch 73/100\n",
      "10/10 [==============================] - 0s 499us/step - loss: 0.7086\n",
      "Epoch 74/100\n",
      "10/10 [==============================] - 0s 598us/step - loss: 0.6873\n",
      "Epoch 75/100\n",
      "10/10 [==============================] - 0s 599us/step - loss: 0.6685\n",
      "Epoch 76/100\n",
      "10/10 [==============================] - 0s 897us/step - loss: 0.6484\n",
      "Epoch 77/100\n",
      "10/10 [==============================] - 0s 598us/step - loss: 0.6325\n",
      "Epoch 78/100\n",
      "10/10 [==============================] - 0s 498us/step - loss: 0.6146\n",
      "Epoch 79/100\n",
      "10/10 [==============================] - 0s 499us/step - loss: 0.5981\n",
      "Epoch 80/100\n",
      "10/10 [==============================] - 0s 698us/step - loss: 0.5824\n",
      "Epoch 81/100\n",
      "10/10 [==============================] - 0s 499us/step - loss: 0.5665\n",
      "Epoch 82/100\n",
      "10/10 [==============================] - 0s 499us/step - loss: 0.5527\n",
      "Epoch 83/100\n",
      "10/10 [==============================] - 0s 798us/step - loss: 0.5376\n",
      "Epoch 84/100\n",
      "10/10 [==============================] - 0s 498us/step - loss: 0.5263\n",
      "Epoch 85/100\n",
      "10/10 [==============================] - 0s 499us/step - loss: 0.5137\n",
      "Epoch 86/100\n",
      "10/10 [==============================] - 0s 499us/step - loss: 0.5016\n",
      "Epoch 87/100\n",
      "10/10 [==============================] - 0s 498us/step - loss: 0.4896\n",
      "Epoch 88/100\n",
      "10/10 [==============================] - 0s 598us/step - loss: 0.4797\n",
      "Epoch 89/100\n",
      "10/10 [==============================] - 0s 499us/step - loss: 0.4696\n",
      "Epoch 90/100\n",
      "10/10 [==============================] - 0s 798us/step - loss: 0.4576\n",
      "Epoch 91/100\n",
      "10/10 [==============================] - 0s 598us/step - loss: 0.4503\n",
      "Epoch 92/100\n",
      "10/10 [==============================] - 0s 498us/step - loss: 0.4396\n",
      "Epoch 93/100\n",
      "10/10 [==============================] - 0s 598us/step - loss: 0.4313\n",
      "Epoch 94/100\n",
      "10/10 [==============================] - 0s 499us/step - loss: 0.4261\n",
      "Epoch 95/100\n",
      "10/10 [==============================] - 0s 798us/step - loss: 0.4164\n",
      "Epoch 96/100\n",
      "10/10 [==============================] - 0s 498us/step - loss: 0.4093\n",
      "Epoch 97/100\n",
      "10/10 [==============================] - 0s 499us/step - loss: 0.4032\n",
      "Epoch 98/100\n",
      "10/10 [==============================] - 0s 499us/step - loss: 0.3963\n",
      "Epoch 99/100\n",
      "10/10 [==============================] - 0s 598us/step - loss: 0.3904\n",
      "Epoch 100/100\n",
      "10/10 [==============================] - 0s 499us/step - loss: 0.3864\n"
     ]
    },
    {
     "data": {
      "text/plain": [
       "<keras.callbacks.History at 0x2275f1eca90>"
      ]
     },
     "execution_count": 4,
     "metadata": {},
     "output_type": "execute_result"
    }
   ],
   "source": [
    "autoencoder.fit(trainFeatures, trainFeatures,\n",
    "                epochs=100,\n",
    "                batch_size=2,\n",
    "                verbose=1,\n",
    "                shuffle=True)"
   ]
  },
  {
   "cell_type": "code",
   "execution_count": 5,
   "metadata": {},
   "outputs": [],
   "source": [
    "decoded_imgs = autoencoder.predict(trainFeatures)"
   ]
  },
  {
   "cell_type": "code",
   "execution_count": 6,
   "metadata": {},
   "outputs": [
    {
     "data": {
      "text/plain": [
       "array([[0.89476323, 1.1415074 , 1.2813836 ],\n",
       "       [0.89476323, 1.1415074 , 1.2813836 ],\n",
       "       [0.89476323, 1.1415074 , 1.2813836 ],\n",
       "       [0.89476323, 1.1415074 , 1.2813836 ],\n",
       "       [1.8045337 , 1.504174  , 2.3399632 ],\n",
       "       [1.1708498 , 1.9189506 , 1.9541394 ],\n",
       "       [1.1708498 , 1.9189506 , 1.9541394 ],\n",
       "       [1.1708498 , 1.9189506 , 1.9541394 ],\n",
       "       [1.1708498 , 1.9189506 , 1.9541394 ],\n",
       "       [2.7143042 , 1.8668406 , 3.398543  ]], dtype=float32)"
      ]
     },
     "execution_count": 6,
     "metadata": {},
     "output_type": "execute_result"
    }
   ],
   "source": [
    "decoded_imgs"
   ]
  },
  {
   "cell_type": "code",
   "execution_count": 7,
   "metadata": {},
   "outputs": [],
   "source": [
    "error = trainFeatures - decoded_imgs"
   ]
  },
  {
   "cell_type": "code",
   "execution_count": 8,
   "metadata": {},
   "outputs": [
    {
     "data": {
      "text/plain": [
       "array([[1.10747775e-02, 2.00243406e-02, 7.91767493e-02],\n",
       "       [1.10747775e-02, 2.00243406e-02, 7.91767493e-02],\n",
       "       [1.10747775e-02, 2.00243406e-02, 7.91767493e-02],\n",
       "       [1.10747775e-02, 2.00243406e-02, 7.91767493e-02],\n",
       "       [6.47274507e-01, 2.45843428e-01, 4.35648580e-01],\n",
       "       [6.87490054e-01, 6.56901210e-03, 2.10319905e-03],\n",
       "       [6.87490054e-01, 6.56901210e-03, 2.10319905e-03],\n",
       "       [6.87490054e-01, 6.56901210e-03, 2.10319905e-03],\n",
       "       [6.87490054e-01, 6.56901210e-03, 2.10319905e-03],\n",
       "       [2.93883892e+00, 1.28405022e+00, 2.56466490e+00]])"
      ]
     },
     "execution_count": 8,
     "metadata": {},
     "output_type": "execute_result"
    }
   ],
   "source": [
    "error_square = error**2\n",
    "error_square"
   ]
  },
  {
   "cell_type": "code",
   "execution_count": 9,
   "metadata": {},
   "outputs": [
    {
     "data": {
      "text/plain": [
       "array([0.11027587, 0.11027587, 0.11027587, 0.11027587, 1.32876652,\n",
       "       0.69616227, 0.69616227, 0.69616227, 0.69616227, 6.78755405])"
      ]
     },
     "execution_count": 9,
     "metadata": {},
     "output_type": "execute_result"
    }
   ],
   "source": [
    "error_square = np.sum(error_square, axis=1)\n",
    "error_square"
   ]
  },
  {
   "cell_type": "code",
   "execution_count": 10,
   "metadata": {},
   "outputs": [
    {
     "data": {
      "image/png": "[encoded data removed]",
      "text/plain": [
       "<Figure size 432x288 with 1 Axes>"
      ]
     },
     "metadata": {
      "needs_background": "light"
     },
     "output_type": "display_data"
    }
   ],
   "source": [
    "%matplotlib inline\n",
    "import matplotlib.pyplot as plt\n",
    "ind = np.arange(10) \n",
    "plt.bar(ind, error_square)\n",
    "plt.show()"
   ]
  },
  {
   "cell_type": "code",
   "execution_count": null,
   "metadata": {},
   "outputs": [],
   "source": []
  }
 ],
 "metadata": {
  "kernelspec": {
   "display_name": "Python 3",
   "language": "python",
   "name": "python3"
  },
  "language_info": {
   "codemirror_mode": {
    "name": "ipython",
    "version": 3
   },
   "file_extension": ".py",
   "mimetype": "text/x-python",
   "name": "python",
   "nbconvert_exporter": "python",
   "pygments_lexer": "ipython3",
   "version": "3.7.3"
  }
 },
 "nbformat": 4,
 "nbformat_minor": 2
}
