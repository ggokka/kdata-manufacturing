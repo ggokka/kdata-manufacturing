{
 "cells": [
  {
   "cell_type": "markdown",
   "metadata": {},
   "source": [
    "```\n",
    "[Title] Autoencoder using Tensorflow.Keras\n",
    "[Author] Yibeck Lee(yibec.Lee@gmail.com)\n",
    "[Contents]\n",
    " - Aucoencoder for Dimension Reduction\n",
    "[References]\n",
    " - https://towardsdatascience.com/pca-vs-autoencoders-1ba08362f450\n",
    " - https://medium.com/datadriveninvestor/deep-autoencoder-using-keras-b77cd3e8be95\n",
    "```"
   ]
  },
  {
   "cell_type": "code",
   "execution_count": 1,
   "metadata": {},
   "outputs": [
    {
     "name": "stderr",
     "output_type": "stream",
     "text": [
      "Using TensorFlow backend.\n"
     ]
    }
   ],
   "source": [
    "from keras.layers import Input, Dense\n",
    "from keras.models import Model\n",
    "import numpy as np"
   ]
  },
  {
   "cell_type": "code",
   "execution_count": 4,
   "metadata": {},
   "outputs": [
    {
     "name": "stdout",
     "output_type": "stream",
     "text": [
      "[[1 1 1]\n",
      " [1 1 1]\n",
      " [1 1 1]\n",
      " [1 1 1]\n",
      " [1 2 3]\n",
      " [2 2 2]\n",
      " [2 2 2]\n",
      " [2 2 2]\n",
      " [2 2 2]\n",
      " [1 3 5]]\n"
     ]
    }
   ],
   "source": [
    "trainFeatures = np.array([\n",
    "  [1,1,1]\n",
    ", [1,1,1]\n",
    ", [1,1,1]\n",
    ", [1,1,1]\n",
    ", [1,2,3]\n",
    ", [2,2,2]\n",
    ", [2,2,2]\n",
    ", [2,2,2]\n",
    ", [2,2,2]\n",
    ", [1,3,5]\n",
    "])\n",
    "print(trainFeatures)"
   ]
  },
  {
   "cell_type": "code",
   "execution_count": 5,
   "metadata": {},
   "outputs": [
    {
     "name": "stdout",
     "output_type": "stream",
     "text": [
      "WARNING:tensorflow:From C:\\ProgramData\\Anaconda3\\lib\\site-packages\\tensorflow\\python\\framework\\op_def_library.py:263: colocate_with (from tensorflow.python.framework.ops) is deprecated and will be removed in a future version.\n",
      "Instructions for updating:\n",
      "Colocations handled automatically by placer.\n"
     ]
    }
   ],
   "source": [
    "encoding_dim = 2\n",
    "input_img = Input(shape=(3,))\n",
    "encoded = Dense(encoding_dim)(input_img)\n",
    "decoded = Dense(3)(encoded)\n",
    "autoencoder = Model(input_img, decoded)\n",
    "autoencoder.compile(optimizer='adadelta', loss='mse')"
   ]
  },
  {
   "cell_type": "code",
   "execution_count": 6,
   "metadata": {},
   "outputs": [
    {
     "name": "stdout",
     "output_type": "stream",
     "text": [
      "WARNING:tensorflow:From C:\\ProgramData\\Anaconda3\\lib\\site-packages\\tensorflow\\python\\ops\\math_ops.py:3066: to_int32 (from tensorflow.python.ops.math_ops) is deprecated and will be removed in a future version.\n",
      "Instructions for updating:\n",
      "Use tf.cast instead.\n",
      "Epoch 1/100\n",
      "10/10 [==============================] - 0s 24ms/step - loss: 4.5258\n",
      "Epoch 2/100\n",
      "10/10 [==============================] - 0s 0us/step - loss: 4.4272\n",
      "Epoch 3/100\n",
      "10/10 [==============================] - 0s 0us/step - loss: 4.3374\n",
      "Epoch 4/100\n",
      "10/10 [==============================] - 0s 2ms/step - loss: 4.2539\n",
      "Epoch 5/100\n",
      "10/10 [==============================] - 0s 0us/step - loss: 4.1768\n",
      "Epoch 6/100\n",
      "10/10 [==============================] - 0s 0us/step - loss: 4.1035\n",
      "Epoch 7/100\n",
      "10/10 [==============================] - 0s 0us/step - loss: 4.0355\n",
      "Epoch 8/100\n",
      "10/10 [==============================] - 0s 2ms/step - loss: 3.9702\n",
      "Epoch 9/100\n",
      "10/10 [==============================] - 0s 400us/step - loss: 3.9077\n",
      "Epoch 10/100\n",
      "10/10 [==============================] - 0s 300us/step - loss: 3.8494\n",
      "Epoch 11/100\n",
      "10/10 [==============================] - 0s 400us/step - loss: 3.7944\n",
      "Epoch 12/100\n",
      "10/10 [==============================] - 0s 400us/step - loss: 3.7419\n",
      "Epoch 13/100\n",
      "10/10 [==============================] - 0s 500us/step - loss: 3.6909\n",
      "Epoch 14/100\n",
      "10/10 [==============================] - 0s 400us/step - loss: 3.6429\n",
      "Epoch 15/100\n",
      "10/10 [==============================] - 0s 500us/step - loss: 3.5960\n",
      "Epoch 16/100\n",
      "10/10 [==============================] - 0s 400us/step - loss: 3.5512\n",
      "Epoch 17/100\n",
      "10/10 [==============================] - 0s 400us/step - loss: 3.5075\n",
      "Epoch 18/100\n",
      "10/10 [==============================] - 0s 300us/step - loss: 3.4647\n",
      "Epoch 19/100\n",
      "10/10 [==============================] - 0s 300us/step - loss: 3.4242\n",
      "Epoch 20/100\n",
      "10/10 [==============================] - 0s 300us/step - loss: 3.3851\n",
      "Epoch 21/100\n",
      "10/10 [==============================] - 0s 400us/step - loss: 3.3449\n",
      "Epoch 22/100\n",
      "10/10 [==============================] - 0s 500us/step - loss: 3.3075\n",
      "Epoch 23/100\n",
      "10/10 [==============================] - 0s 400us/step - loss: 3.2692\n",
      "Epoch 24/100\n",
      "10/10 [==============================] - 0s 300us/step - loss: 3.2327\n",
      "Epoch 25/100\n",
      "10/10 [==============================] - 0s 400us/step - loss: 3.1970\n",
      "Epoch 26/100\n",
      "10/10 [==============================] - 0s 400us/step - loss: 3.1632\n",
      "Epoch 27/100\n",
      "10/10 [==============================] - 0s 400us/step - loss: 3.1268\n",
      "Epoch 28/100\n",
      "10/10 [==============================] - 0s 300us/step - loss: 3.0924\n",
      "Epoch 29/100\n",
      "10/10 [==============================] - 0s 400us/step - loss: 3.0594\n",
      "Epoch 30/100\n",
      "10/10 [==============================] - 0s 400us/step - loss: 3.0237\n",
      "Epoch 31/100\n",
      "10/10 [==============================] - 0s 500us/step - loss: 2.9888\n",
      "Epoch 32/100\n",
      "10/10 [==============================] - 0s 400us/step - loss: 2.9551\n",
      "Epoch 33/100\n",
      "10/10 [==============================] - 0s 400us/step - loss: 2.9206\n",
      "Epoch 34/100\n",
      "10/10 [==============================] - 0s 400us/step - loss: 2.8845\n",
      "Epoch 35/100\n",
      "10/10 [==============================] - 0s 400us/step - loss: 2.8497\n",
      "Epoch 36/100\n",
      "10/10 [==============================] - 0s 300us/step - loss: 2.8135\n",
      "Epoch 37/100\n",
      "10/10 [==============================] - 0s 400us/step - loss: 2.7762\n",
      "Epoch 38/100\n",
      "10/10 [==============================] - 0s 300us/step - loss: 2.7393\n",
      "Epoch 39/100\n",
      "10/10 [==============================] - 0s 400us/step - loss: 2.7001\n",
      "Epoch 40/100\n",
      "10/10 [==============================] - 0s 300us/step - loss: 2.6612\n",
      "Epoch 41/100\n",
      "10/10 [==============================] - 0s 400us/step - loss: 2.6217\n",
      "Epoch 42/100\n",
      "10/10 [==============================] - 0s 400us/step - loss: 2.5806\n",
      "Epoch 43/100\n",
      "10/10 [==============================] - 0s 300us/step - loss: 2.5397\n",
      "Epoch 44/100\n",
      "10/10 [==============================] - 0s 400us/step - loss: 2.4971\n",
      "Epoch 45/100\n",
      "10/10 [==============================] - 0s 400us/step - loss: 2.4539\n",
      "Epoch 46/100\n",
      "10/10 [==============================] - 0s 400us/step - loss: 2.4096\n",
      "Epoch 47/100\n",
      "10/10 [==============================] - 0s 400us/step - loss: 2.3665\n",
      "Epoch 48/100\n",
      "10/10 [==============================] - 0s 500us/step - loss: 2.3192\n",
      "Epoch 49/100\n",
      "10/10 [==============================] - 0s 400us/step - loss: 2.2745\n",
      "Epoch 50/100\n",
      "10/10 [==============================] - 0s 300us/step - loss: 2.2286\n",
      "Epoch 51/100\n",
      "10/10 [==============================] - 0s 500us/step - loss: 2.1795\n",
      "Epoch 52/100\n",
      "10/10 [==============================] - 0s 400us/step - loss: 2.1308\n",
      "Epoch 53/100\n",
      "10/10 [==============================] - 0s 300us/step - loss: 2.0845\n",
      "Epoch 54/100\n",
      "10/10 [==============================] - 0s 400us/step - loss: 2.0342\n",
      "Epoch 55/100\n",
      "10/10 [==============================] - 0s 300us/step - loss: 1.9848\n",
      "Epoch 56/100\n",
      "10/10 [==============================] - 0s 400us/step - loss: 1.9354\n",
      "Epoch 57/100\n",
      "10/10 [==============================] - 0s 300us/step - loss: 1.8867\n",
      "Epoch 58/100\n",
      "10/10 [==============================] - 0s 400us/step - loss: 1.8376\n",
      "Epoch 59/100\n",
      "10/10 [==============================] - 0s 400us/step - loss: 1.7875\n",
      "Epoch 60/100\n",
      "10/10 [==============================] - 0s 300us/step - loss: 1.7385\n",
      "Epoch 61/100\n",
      "10/10 [==============================] - 0s 500us/step - loss: 1.6897\n",
      "Epoch 62/100\n",
      "10/10 [==============================] - 0s 400us/step - loss: 1.6407\n",
      "Epoch 63/100\n",
      "10/10 [==============================] - 0s 400us/step - loss: 1.5948\n",
      "Epoch 64/100\n",
      "10/10 [==============================] - 0s 400us/step - loss: 1.5460\n",
      "Epoch 65/100\n",
      "10/10 [==============================] - 0s 300us/step - loss: 1.4988\n",
      "Epoch 66/100\n",
      "10/10 [==============================] - 0s 500us/step - loss: 1.4525\n",
      "Epoch 67/100\n",
      "10/10 [==============================] - 0s 400us/step - loss: 1.4066\n",
      "Epoch 68/100\n",
      "10/10 [==============================] - 0s 400us/step - loss: 1.3616\n",
      "Epoch 69/100\n",
      "10/10 [==============================] - 0s 400us/step - loss: 1.3177\n",
      "Epoch 70/100\n",
      "10/10 [==============================] - 0s 500us/step - loss: 1.2742\n",
      "Epoch 71/100\n",
      "10/10 [==============================] - 0s 300us/step - loss: 1.2362\n",
      "Epoch 72/100\n",
      "10/10 [==============================] - 0s 400us/step - loss: 1.1930\n",
      "Epoch 73/100\n",
      "10/10 [==============================] - 0s 400us/step - loss: 1.1540\n",
      "Epoch 74/100\n",
      "10/10 [==============================] - 0s 500us/step - loss: 1.1156\n",
      "Epoch 75/100\n",
      "10/10 [==============================] - 0s 400us/step - loss: 1.0785\n",
      "Epoch 76/100\n",
      "10/10 [==============================] - 0s 400us/step - loss: 1.0429\n",
      "Epoch 77/100\n",
      "10/10 [==============================] - 0s 400us/step - loss: 1.0118\n",
      "Epoch 78/100\n",
      "10/10 [==============================] - 0s 400us/step - loss: 0.9769\n",
      "Epoch 79/100\n",
      "10/10 [==============================] - 0s 400us/step - loss: 0.9452\n",
      "Epoch 80/100\n",
      "10/10 [==============================] - 0s 400us/step - loss: 0.9150\n",
      "Epoch 81/100\n",
      "10/10 [==============================] - 0s 300us/step - loss: 0.8868\n",
      "Epoch 82/100\n",
      "10/10 [==============================] - 0s 400us/step - loss: 0.8595\n",
      "Epoch 83/100\n",
      "10/10 [==============================] - 0s 400us/step - loss: 0.8338\n",
      "Epoch 84/100\n",
      "10/10 [==============================] - 0s 400us/step - loss: 0.8092\n",
      "Epoch 85/100\n",
      "10/10 [==============================] - 0s 400us/step - loss: 0.7859\n",
      "Epoch 86/100\n",
      "10/10 [==============================] - 0s 400us/step - loss: 0.7643\n",
      "Epoch 87/100\n",
      "10/10 [==============================] - 0s 500us/step - loss: 0.7439\n",
      "Epoch 88/100\n",
      "10/10 [==============================] - 0s 400us/step - loss: 0.7249\n",
      "Epoch 89/100\n",
      "10/10 [==============================] - 0s 400us/step - loss: 0.7068\n",
      "Epoch 90/100\n",
      "10/10 [==============================] - 0s 400us/step - loss: 0.6897\n",
      "Epoch 91/100\n",
      "10/10 [==============================] - 0s 400us/step - loss: 0.6771\n",
      "Epoch 92/100\n",
      "10/10 [==============================] - 0s 400us/step - loss: 0.6603\n",
      "Epoch 93/100\n",
      "10/10 [==============================] - 0s 400us/step - loss: 0.6467\n",
      "Epoch 94/100\n",
      "10/10 [==============================] - 0s 300us/step - loss: 0.6369\n",
      "Epoch 95/100\n",
      "10/10 [==============================] - 0s 400us/step - loss: 0.6233\n",
      "Epoch 96/100\n",
      "10/10 [==============================] - 0s 400us/step - loss: 0.6121\n",
      "Epoch 97/100\n",
      "10/10 [==============================] - 0s 400us/step - loss: 0.6019\n",
      "Epoch 98/100\n",
      "10/10 [==============================] - 0s 300us/step - loss: 0.5923\n",
      "Epoch 99/100\n",
      "10/10 [==============================] - 0s 400us/step - loss: 0.5837\n",
      "Epoch 100/100\n",
      "10/10 [==============================] - 0s 300us/step - loss: 0.5755\n"
     ]
    },
    {
     "data": {
      "text/plain": [
       "<keras.callbacks.History at 0xe81ba20>"
      ]
     },
     "execution_count": 6,
     "metadata": {},
     "output_type": "execute_result"
    }
   ],
   "source": [
    "autoencoder.fit(trainFeatures, trainFeatures,\n",
    "                epochs=100,\n",
    "                batch_size=2,\n",
    "                verbose=1,\n",
    "                shuffle=True)"
   ]
  },
  {
   "cell_type": "code",
   "execution_count": 7,
   "metadata": {},
   "outputs": [],
   "source": [
    "decoded_imgs = autoencoder.predict(trainFeatures)"
   ]
  },
  {
   "cell_type": "code",
   "execution_count": 8,
   "metadata": {},
   "outputs": [
    {
     "data": {
      "text/plain": [
       "array([[1.1095318, 1.1637223, 1.3820477],\n",
       "       [1.1095318, 1.1637223, 1.3820477],\n",
       "       [1.1095318, 1.1637223, 1.3820477],\n",
       "       [1.1095318, 1.1637223, 1.3820477],\n",
       "       [1.1302338, 1.6949943, 1.4482573],\n",
       "       [1.9285399, 1.6084877, 2.303241 ],\n",
       "       [1.9285399, 1.6084877, 2.303241 ],\n",
       "       [1.9285399, 1.6084877, 2.303241 ],\n",
       "       [1.9285399, 1.6084877, 2.303241 ],\n",
       "       [1.1509358, 2.2262664, 1.5144668]], dtype=float32)"
      ]
     },
     "execution_count": 8,
     "metadata": {},
     "output_type": "execute_result"
    }
   ],
   "source": [
    "decoded_imgs"
   ]
  },
  {
   "cell_type": "code",
   "execution_count": 9,
   "metadata": {},
   "outputs": [],
   "source": [
    "error = trainFeatures - decoded_imgs"
   ]
  },
  {
   "cell_type": "code",
   "execution_count": 10,
   "metadata": {},
   "outputs": [
    {
     "data": {
      "text/plain": [
       "array([[1.19972065e-02, 2.68049839e-02, 1.45960409e-01],\n",
       "       [1.19972065e-02, 2.68049839e-02, 1.45960409e-01],\n",
       "       [1.19972065e-02, 2.68049839e-02, 1.45960409e-01],\n",
       "       [1.19972065e-02, 2.68049839e-02, 1.45960409e-01],\n",
       "       [1.69608335e-02, 9.30284585e-02, 2.40790532e+00],\n",
       "       [5.10654987e-03, 1.53281861e-01, 9.19551129e-02],\n",
       "       [5.10654987e-03, 1.53281861e-01, 9.19551129e-02],\n",
       "       [5.10654987e-03, 1.53281861e-01, 9.19551129e-02],\n",
       "       [5.10654987e-03, 1.53281861e-01, 9.19551129e-02],\n",
       "       [2.27816064e-02, 5.98663708e-01, 1.21489419e+01]])"
      ]
     },
     "execution_count": 10,
     "metadata": {},
     "output_type": "execute_result"
    }
   ],
   "source": [
    "error_square = error**2\n",
    "error_square"
   ]
  },
  {
   "cell_type": "code",
   "execution_count": 11,
   "metadata": {},
   "outputs": [
    {
     "data": {
      "text/plain": [
       "array([ 0.1847626 ,  0.1847626 ,  0.1847626 ,  0.1847626 ,  2.51789461,\n",
       "        0.25034352,  0.25034352,  0.25034352,  0.25034352, 12.77038726])"
      ]
     },
     "execution_count": 11,
     "metadata": {},
     "output_type": "execute_result"
    }
   ],
   "source": [
    "error_square = np.sum(error_square, axis=1)\n",
    "error_square"
   ]
  },
  {
   "cell_type": "code",
   "execution_count": 12,
   "metadata": {},
   "outputs": [
    {
     "data": {
      "image/png": "[encoded data removed]",
      "text/plain": [
       "<Figure size 432x288 with 1 Axes>"
      ]
     },
     "metadata": {
      "needs_background": "light"
     },
     "output_type": "display_data"
    }
   ],
   "source": [
    "%matplotlib inline\n",
    "import matplotlib.pyplot as plt\n",
    "ind = np.arange(10) \n",
    "plt.bar(ind, error_square)\n",
    "plt.show()"
   ]
  },
  {
   "cell_type": "code",
   "execution_count": null,
   "metadata": {},
   "outputs": [],
   "source": []
  }
 ],
 "metadata": {
  "kernelspec": {
   "display_name": "Python 3",
   "language": "python",
   "name": "python3"
  },
  "language_info": {
   "codemirror_mode": {
    "name": "ipython",
    "version": 3
   },
   "file_extension": ".py",
   "mimetype": "text/x-python",
   "name": "python",
   "nbconvert_exporter": "python",
   "pygments_lexer": "ipython3",
   "version": "3.7.3"
  }
 },
 "nbformat": 4,
 "nbformat_minor": 2
}
