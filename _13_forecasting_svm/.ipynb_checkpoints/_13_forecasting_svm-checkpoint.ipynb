{
 "cells": [
  {
   "cell_type": "markdown",
   "metadata": {},
   "source": [
    "```\n",
    "[Title] Demand Forecasting using SVM\n",
    "[Author] Yibeck Lee(yibec.Lee@gmail.com)\n",
    "[Contents] \n",
    " - SVM for Demand Forecasting\n",
    "```"
   ]
  },
  {
   "cell_type": "code",
   "execution_count": null,
   "metadata": {},
   "outputs": [],
   "source": [
    "%matplotlib inline\n",
    "import pandas as pd\n",
    "import numpy as np\n",
    "import matplotlib.pyplot as plt\n",
    "from sklearn.svm import SVR # R-regression C-classifier\n",
    "\n",
    "from sklearn.metrics import accuracy_score\n",
    "\n",
    "np.set_printoptions(linewidth=400)    # screen size\n",
    "\n",
    "np.set_printoptions(threshold=np.inf) # print all numpy output\n",
    "\n"
   ]
  },
  {
   "cell_type": "code",
   "execution_count": null,
   "metadata": {},
   "outputs": [],
   "source": [
    "dfTrain = pd.read_csv(\"../data_source/data01-train.csv\",header=None)\n",
    "\n",
    "dfTest = pd.read_csv(\"../data_source/data01-test.csv\",header=None)\n",
    "\n",
    "# dfTest = pd.read_csv(\"C://Home//GitHub//deepbig-ng2-login//resources//data//data01-train.csv\",header=None)\n",
    "\n",
    "print(dfTrain[0:10])\n",
    "\n",
    "arrTrain = dfTrain.as_matrix().astype(int)\n",
    "\n",
    "print(arrTrain[0:10])\n",
    "\n",
    "print(arrTrain.shape)\n",
    "\n",
    "\n",
    "\n",
    "# print(name_dtype)\n",
    "\n",
    "arrTrain = np.array(arrTrain)\n",
    "\n",
    "print(arrTrain.dtype)\n",
    "\n",
    "print(np.unique(arrTrain[:,0])) # binary label \n",
    "\n",
    "numClass = np.unique(arrTrain[:,1]).size\n",
    "\n",
    "print('numClass',numClass)\n",
    "\n",
    "labelTrain = arrTrain[:,0].astype(int) \n",
    "\n",
    "# print(labelTrain[0:100])\n",
    "\n",
    "# print('[labelTrain[0,1] : ', np.bincount(labelTrain)) # get frequency of [0,1]\n",
    "\n",
    "#featuresTrain = arrTrain[:,2:] # 시간 이 많이 걸림\n",
    "featuresTrain = arrTrain[:,2:5]\n"
   ]
  },
  {
   "cell_type": "code",
   "execution_count": null,
   "metadata": {},
   "outputs": [],
   "source": [
    "svr_rbf = SVR(kernel='rbf', C=1e3, gamma=0.1)"
   ]
  },
  {
   "cell_type": "code",
   "execution_count": null,
   "metadata": {
    "scrolled": false
   },
   "outputs": [],
   "source": [
    "\n",
    "\n",
    "\n",
    "\n",
    "\n",
    "\n",
    "\n",
    "svr_rbf = SVR(kernel='rbf', C=1e3, gamma=0.1)\n",
    "\n",
    "svr_lin = SVR(kernel='linear', C=1e3)\n",
    "\n",
    "svr_poly = SVR(kernel='poly', C=1e3, degree=2)\n",
    "\n",
    "\n",
    "\n",
    "pred_rbf = svr_rbf.fit(featuresTrain, labelTrain).predict(featuresTrain)\n",
    "\n",
    "pred_lin = svr_lin.fit(featuresTrain, labelTrain).predict(featuresTrain)\n",
    "\n",
    "pred_poly = svr_poly.fit(featuresTrain,featuresTrain).predict(featuresTrain)\n",
    "\n",
    "\n",
    "\n",
    "\"\"\"\n",
    "\n",
    "arrTest = dfTest.as_matrix().astype(int)\n",
    "\n",
    "predTest = arrTest[:,1:]\n",
    "\n",
    "featuresTest = arrTest[:,2:]\n",
    "\n",
    "predLabelTest = svc.predict(featuresTest)\n",
    "\n",
    "print(predLabelTest)\n",
    "\n",
    "lw = 2\n",
    "\n",
    "plt.scatter(featuresTrain, featuresTrain, color='darkorange', label='data')\n",
    "\n",
    "plt.plot(featuresTrain, pred_rbf, color='navy', lw=lw, label='RBF model')\n",
    "\n",
    "plt.plot(featuresTrain, pred_lin, color='c', lw=lw, label='Linear model')\n",
    "\n",
    "plt.plot(featuresTrain, pred_poly, color='cornflowerblue', lw=lw, label='Polynomial model')\n",
    "\n",
    "plt.xlabel('data')\n",
    "\n",
    "plt.ylabel('target')\n",
    "\n",
    "plt.title('Support Vector Regression')\n",
    "\n",
    "plt.legend()\n",
    "\n",
    "plt.show()\n",
    "\"\"\"\n"
   ]
  },
  {
   "cell_type": "code",
   "execution_count": null,
   "metadata": {},
   "outputs": [],
   "source": []
  },
  {
   "cell_type": "code",
   "execution_count": null,
   "metadata": {},
   "outputs": [],
   "source": []
  }
 ],
 "metadata": {
  "kernelspec": {
   "display_name": "Python 3",
   "language": "python",
   "name": "python3"
  },
  "language_info": {
   "codemirror_mode": {
    "name": "ipython",
    "version": 3
   },
   "file_extension": ".py",
   "mimetype": "text/x-python",
   "name": "python",
   "nbconvert_exporter": "python",
   "pygments_lexer": "ipython3",
   "version": "3.7.3"
  }
 },
 "nbformat": 4,
 "nbformat_minor": 2
}
