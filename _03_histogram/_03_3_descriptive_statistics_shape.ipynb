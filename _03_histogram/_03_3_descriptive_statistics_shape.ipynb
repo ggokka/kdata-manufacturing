{
 "cells": [
  {
   "cell_type": "code",
   "execution_count": 1,
   "metadata": {},
   "outputs": [
    {
     "name": "stdout",
     "output_type": "stream",
     "text": [
      "[왜도(skew)\n",
      "0.37866074546824346\n",
      "\n",
      "[첨도(kurt)]\n",
      "-1.186659656950692\n"
     ]
    },
    {
     "data": {
      "image/png": "[encoded data removed]",
      "text/plain": [
       "<Figure size 432x288 with 1 Axes>"
      ]
     },
     "metadata": {
      "needs_background": "light"
     },
     "output_type": "display_data"
    }
   ],
   "source": [
    "#!/c/Apps/Anaconda3/python\n",
    "# -*- coding: utf-8 -*-\n",
    "\"\"\"\n",
    "[Title] Histogram\n",
    "[Author] Yibeck Lee(yibec.Lee@gmail.com)\n",
    "[Contents] \n",
    " - Histogram & Descriptive Statistics(기술통계)\n",
    "\"\"\"\n",
    "%matplotlib inline\n",
    "\n",
    "import matplotlib as mpl\n",
    "import matplotlib.pyplot as plt\n",
    "from matplotlib import font_manager, rc\n",
    "\n",
    "import pandas as pd\n",
    "\n",
    "# font_path = 'C:/Windows/Fonts/나눔고딕코딩.ttf'\n",
    "font_path = 'C:/Windows/Fonts/malgun.ttf'\n",
    "font_name = font_manager.FontProperties(fname=font_path).get_name()\n",
    "rc('font', family=font_name)\n",
    "\n",
    "\n",
    "df = pd.read_csv(\"WIP_HISTORY.csv\")\n",
    "\n",
    "skew = df.skew(axis=0).tolist()\n",
    "print('[왜도(skew)')\n",
    "print(skew[4])\n",
    "\n",
    "print('\\n[첨도(kurt)]')\n",
    "kurt = df.kurt(axis=0).tolist()\n",
    "print(kurt[4])\n",
    "\n",
    "\n",
    "plt.title(\"Histogram(Gas Pressure. bins=10) : 왜도={0:.3f}, 첨도={1:0.3f}\".format(skew[4],kurt[4]))\n",
    "\n",
    "plt.ylabel(\"frequency\")\n",
    "plt.xlabel(\"gas Pressure\")\n",
    "df['GAS_PRESSURE'].hist(bins=10)\n",
    "plt.show()\n"
   ]
  },
  {
   "cell_type": "code",
   "execution_count": 3,
   "metadata": {},
   "outputs": [
    {
     "name": "stdout",
     "output_type": "stream",
     "text": [
      "[왜도(all)\n",
      "[-0.18034727886048546, 0.9856385635663917, -0.17550557321682242, -0.11837633149406383, 0.37866074546824346, 0.01906635474405945, -0.040659000203276514, -0.7651623109781834, 0.9077316290704291, -0.011235555220714372, 1.1488567009424808, 1.1211187262055526, -0.20318697986064294]\n",
      "\n",
      "[첨도(all)]\n",
      "[0.011376871558292923, -1.0287224064999387, -1.505681487013742, -1.291948398591797, -1.186659656950692, -1.0950732744325968, -0.6730584014647287, -0.8521450426812733, 0.16685940157659207, -1.6686448659451139, -0.15423533517421317, 0.01645714497146722, -0.46891067624668414]\n"
     ]
    }
   ],
   "source": [
    "skew = df.skew(axis=0).tolist()\n",
    "print('[왜도(all)')\n",
    "print(skew)\n",
    "\n",
    "print('\\n[첨도(all)]')\n",
    "kurt = df.kurt(axis=0).tolist()\n",
    "print(kurt)"
   ]
  },
  {
   "cell_type": "code",
   "execution_count": null,
   "metadata": {},
   "outputs": [],
   "source": []
  }
 ],
 "metadata": {
  "kernelspec": {
   "display_name": "Python 3",
   "language": "python",
   "name": "python3"
  },
  "language_info": {
   "codemirror_mode": {
    "name": "ipython",
    "version": 3
   },
   "file_extension": ".py",
   "mimetype": "text/x-python",
   "name": "python",
   "nbconvert_exporter": "python",
   "pygments_lexer": "ipython3",
   "version": "3.7.3"
  }
 },
 "nbformat": 4,
 "nbformat_minor": 2
}
